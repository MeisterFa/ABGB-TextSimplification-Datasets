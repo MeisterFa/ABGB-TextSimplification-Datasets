{
 "cells": [
  {
   "cell_type": "code",
   "execution_count": 1,
   "metadata": {},
   "outputs": [],
   "source": [
    "import json\n",
    "import csv\n",
    "\n",
    "with open('./abgbv2.json', 'r',encoding=\"utf-8\") as f:\n",
    "    dataset = json.load(f)\n"
   ]
  },
  {
   "cell_type": "code",
   "execution_count": 2,
   "metadata": {},
   "outputs": [
    {
     "name": "stdout",
     "output_type": "stream",
     "text": [
      "1789\n"
     ]
    }
   ],
   "source": [
    "simplifications_list = []\n",
    "\n",
    "for data in dataset: \n",
    "    original_paragraphs = data['originaltext']\n",
    "    textvorschlag_paragraphs = data['textvorschlag']\n",
    "    alternative_Paragraphs = data['alternative']\n",
    "\n",
    "    for original, simplified in zip(original_paragraphs, textvorschlag_paragraphs):\n",
    "        original_sentences = original['sentences']\n",
    "        simplified_sentences = simplified['sentences']\n",
    "\n",
    "        for original_sentence, simplified_sentence in zip(original_sentences, simplified_sentences):\n",
    "            simplifications_list.append({\n",
    "                \"originalText\": original_sentence,\n",
    "                \"simplificationText\": simplified_sentence\n",
    "            })\n",
    "\n",
    "    for original, simplified in zip(original_paragraphs, alternative_Paragraphs):\n",
    "        original_sentences = original['sentences']\n",
    "        simplified_sentences = simplified['sentences']\n",
    "\n",
    "        for original_sentence, simplified_sentence in zip(original_sentences, simplified_sentences):\n",
    "            simplifications_list.append({\n",
    "                \"originalText\": original_sentence,\n",
    "                \"simplificationText\": simplified_sentence\n",
    "            })\n",
    "\n",
    "print(len(simplifications_list))\n",
    "\n",
    "with open(\"abgbFinal.csv\", \"w\", newline=\"\") as f:\n",
    "    # Create a CSV writer\n",
    "    writer = csv.DictWriter(f, fieldnames=[\"originalText\", \"simplificationText\"])\n",
    "\n",
    "    # Write the header row\n",
    "    writer.writeheader()\n",
    "\n",
    "    # Write the data rows\n",
    "    for row in simplifications_list:\n",
    "        writer.writerow(row)\n"
   ]
  },
  {
   "cell_type": "code",
   "execution_count": null,
   "metadata": {},
   "outputs": [],
   "source": []
  }
 ],
 "metadata": {
  "kernelspec": {
   "display_name": "venv",
   "language": "python",
   "name": "python3"
  },
  "language_info": {
   "codemirror_mode": {
    "name": "ipython",
    "version": 3
   },
   "file_extension": ".py",
   "mimetype": "text/x-python",
   "name": "python",
   "nbconvert_exporter": "python",
   "pygments_lexer": "ipython3",
   "version": "3.8.16"
  },
  "orig_nbformat": 4,
  "vscode": {
   "interpreter": {
    "hash": "7a1def56734c7f18e6250c21039a5ba6164ea195a8438ddf179702f9b81dc1fa"
   }
  }
 },
 "nbformat": 4,
 "nbformat_minor": 2
}
